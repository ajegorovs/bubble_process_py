{
 "cells": [
  {
   "cell_type": "code",
   "execution_count": 2,
   "metadata": {},
   "outputs": [],
   "source": [
    "import numpy as np, itertools, networkx as nx, sys, copy,  cv2, os, glob, re, pickle, time as time_lib\n",
    "from matplotlib import pyplot as plt\n",
    "from tqdm import tqdm\n",
    "from collections import defaultdict\n",
    "def track_time(reset = False):\n",
    "    if reset:\n",
    "        track_time.last_time = time_lib.time()\n",
    "        return '(Initializing time counter)'\n",
    "    else:\n",
    "        current_time = time_lib.time()\n",
    "        time_passed = current_time - track_time.last_time\n",
    "        track_time.last_time = current_time\n",
    "        return f'({time_passed:.2f} s)'"
   ]
  },
  {
   "cell_type": "code",
   "execution_count": 3,
   "metadata": {},
   "outputs": [],
   "source": [
    "mainOutputFolder     = r'.\\post_tests'                           # descritive project name e.g [gallium_bubbles, water_bubbles]\n",
    "mainOutputSubFolders =  ['Field OFF Series 7', 'sccm150-meanFix']   \n",
    "inputImageFolder     = r'E:\\relocated\\Downloads\\150 sccm' #\n",
    "\n",
    "interval_start   = 1                           # start with this ID\n",
    "numImages       = 1999                         # how many images you want to analyze.\n",
    "interval_stop    = interval_start + numImages     # images IDs \\elem [intervalStart, intervalStop); start-end will be updated depending on available data.\n",
    "\n",
    "useMeanWindow   = 0                             # averaging intervals will overlap half widths, read more below\n",
    "N               = 700                           # averaging window width\n",
    "rotateImageBy   = cv2.ROTATE_180                # -1= no rotation, cv2.ROTATE_90_CLOCKWISE, cv2.ROTATE_90_COUNTERCLOCKWISE, cv2.ROTATE_180 \n",
    "\n",
    "\n",
    "font = cv2.FONT_HERSHEY_SIMPLEX\n",
    "fontScale = 0.7; thickness = 4;"
   ]
  },
  {
   "cell_type": "code",
   "execution_count": 4,
   "metadata": {},
   "outputs": [],
   "source": [
    "if 1 == 1:                               # prep image links, get min/max image indexes\n",
    "    # ================================================================================================\n",
    "    # ============================= GET PATHS TO IMAGES AND RESORT BY ID =============================\n",
    "    # 1) get image links\n",
    "    # 2) extract integers in name [.\\img3509, .\\img351, .\\img3510, ....] -> [3509, 351, 3510, ...]\n",
    "    # 3) filter by index \n",
    "    # 4) sort order by index [.\\img3509, .\\img351, .\\img3510, ...] -> [.\\img351, .\\img3509, .\\img3510, ...]\n",
    "    image_links = glob.glob(inputImageFolder + \"**/*.bmp\", recursive=True) \n",
    "    if len(image_links) == 0:\n",
    "        input(\"No files inside directory, copy them and press any key to continue...\")\n",
    "        image_links = glob.glob(inputImageFolder + \"**/*.bmp\", recursive=True)                                          # 1)\n",
    "\n",
    "    extractIntergerFromFileName = lambda x: int(re.findall('\\d+', os.path.basename(x))[0])                             # 2)\n",
    "    image_links = list(filter(lambda x: interval_start <= extractIntergerFromFileName(x) < interval_stop , image_links))   # 3)\n",
    "    image_links.sort(key=extractIntergerFromFileName)                                                                   # 4)\n",
    "\n",
    "    interval_start   = extractIntergerFromFileName(image_links[0])        # update start index, so its captures in subfolder name.\n",
    "    interval_stop    = extractIntergerFromFileName(image_links[-1])       # update end index \n"
   ]
  },
  {
   "cell_type": "code",
   "execution_count": 5,
   "metadata": {},
   "outputs": [],
   "source": [
    "\"\"\"\n",
    "========================================================================================================//\n",
    "======================================== BUILD PROJECT FOLDER HIERARCHY ================================//\n",
    "--------------------------------------------------------------------------------------------------------//\n",
    "------------------------------------ CREATE MAIN PROJECT, SUBPROJECT FOLDERS ---------------------------//\n",
    "\"\"\"\n",
    "if not os.path.exists(mainOutputFolder): os.mkdir(mainOutputFolder)  \n",
    "mainOutputSubFolders.append(f\"{interval_start:05}-{interval_stop:05}\")       # sub-project folder hierarhy e.g [exp setup, parameter, subset of data]\n",
    "\n",
    "for folderName in mainOutputSubFolders:     \n",
    "    mainOutputFolder = os.path.join(mainOutputFolder, folderName)               \n",
    "    if not os.path.exists(mainOutputFolder): os.mkdir(mainOutputFolder)\n",
    "\n",
    "# -------------------------------- CREATE VARIOUS OUTPUT FOLDERS -------------------------\n",
    "\n",
    "images        = os.path.join(mainOutputFolder, 'images'    )\n",
    "stages       = os.path.join(mainOutputFolder, 'stages'    )\n",
    "archives  = os.path.join(mainOutputFolder, 'archives'  )\n",
    "graphs       = os.path.join(mainOutputFolder, 'graphs'    )\n",
    "\n",
    "[os.mkdir(folder) for folder in (images, stages, archives, graphs) if not os.path.exists(folder)]\n",
    "\n",
    "pre_run = os.path.join(images, 'prerun')\n",
    "if not os.path.exists(pre_run): os.mkdir(pre_run)\n",
    "\n",
    "images_output = os.path.join(images, 'output')\n",
    "if not os.path.exists(images_output): os.mkdir(images_output)\n"
   ]
  },
  {
   "cell_type": "code",
   "execution_count": 6,
   "metadata": {},
   "outputs": [],
   "source": [
    "path_modues = r'.\\modules'      # os.path.join(mainOutputFolder,'modules')\n",
    "sys.path.append(path_modues)    \n",
    "\n",
    "# NOTE: IF YOU USE MODULES, DONT FORGET EMPTY \"__init__.py\" FILE INSIDE MODULES FOLDER\n",
    "# NOTE: path_modules_init = os.path.join(path_modues, \"__init__.py\")\n",
    "# NOTE: if not os.path.exists(path_modules_init):  with open(path_modules_init, \"w\") as init_file: init_file.write(\"\")\n",
    "\n",
    "#--------------------------- IMPORT CUSTOM FUNCITONS -------------------------------------\n",
    "from cropGUI import cropGUI\n",
    "\n",
    "from graphs_brects import (overlappingRotatedRectangles)\n",
    "\n",
    "from image_processing import (convertGray2RGB, undistort)\n",
    "\n",
    "from bubble_params  import (centroid_area_cmomzz, centroid_area)\n",
    "\n",
    "from graphs_general import (graph_extract_paths, find_paths_from_to_multi, graph_check_paths, get_connected_components,\n",
    "                            comb_product_to_graph_edges, for_graph_plots,  extract_clusters_from_edges,\n",
    "                            set_custom_node_parameters, G2_set_parameters, get_event_types_from_segment_graph)\n",
    "\n",
    "from graphs_general import (G, G2, key_nodes, keys_segments, G2_t_start, G2_t_end, G2_n_from, G2_n_to, G2_edge_dist, G_time, G_area, G_centroid, G_owner, G_owner_set)\n",
    "\n",
    "from interpolation import (interpolate_trajectory, extrapolate_find_k_s, interpolateMiddle1D_2, decide_k_s)\n",
    "\n",
    "from misc import (cyclicColor, timeHMS, modBR, rect2contour, combs_different_lengths, sort_len_diff_f,\n",
    "                  disperse_nodes_to_times, disperse_composite_nodes_into_solo_nodes, find_key_by_value, CircularBuffer, CircularBufferReverse, \n",
    "                  split_into_bins, lr_reindex_masters, dfs_pred, dfs_succ, old_conn_2_new, lr_evel_perm_interp_data, lr_weighted_sols, \n",
    "                  save_connections_two_ways, save_connections_merges, save_connections_splits, itertools_product_length, conflicts_stage_1, \n",
    "                  conflicts_stage_2, conflicts_stage_3, edge_crit_func, two_crit_many_branches, find_final_master_all,\n",
    "                  zp_process, f121_disperse_stray_nodes, f121_interpolate_holes, f121_calc_permutations, f121_precompute_params, f121_get_evolutions)\n"
   ]
  },
  {
   "cell_type": "code",
   "execution_count": 8,
   "metadata": {},
   "outputs": [
    {
     "name": "stdout",
     "output_type": "stream",
     "text": [
      "(Initializing time counter)\n"
     ]
    }
   ],
   "source": [
    "cropMaskName = \"-\".join(mainOutputSubFolders[:2])+'-crop'\n",
    "cropMaskPath = os.path.join(os.path.join(*mainOutputFolder.split(os.sep)[:-1]), f\"{cropMaskName}.png\")\n",
    "cropMaskMissing = True if not os.path.exists(cropMaskPath) else False\n",
    "\n",
    "graphsPath          =   os.path.join(archives  ,  \"graphs.pickle\"    )\n",
    "segmentsPath        =   os.path.join(archives  ,  \"segments.pickle\"  )\n",
    "contoursHulls       =   os.path.join(archives  ,  \"contorus.pickle\"  )\n",
    "mergeSplitEvents    =   os.path.join(archives  ,  \"ms-events.pickle\" )\n",
    "\n",
    "                     \n",
    "meanImagePath       =   os.path.join(archives  ,  \"mean.npz\"         )\n",
    "meanImagePathArr    =   os.path.join(archives  ,  \"meanArr.npz\"      )\n",
    "                     \n",
    "archivePath         =   os.path.join(stages       ,  \"croppedImageArr.npz\"        )\n",
    "binarizedArrPath    =   os.path.join(stages       ,  \"binarizedImageArr.npz\"      )\n",
    "post_binary_data    =   os.path.join(stages       ,  \"intermediate_data.pickle\"   ) \n",
    "\n",
    "print(track_time(reset = True))"
   ]
  },
  {
   "cell_type": "code",
   "execution_count": 9,
   "metadata": {},
   "outputs": [
    {
     "name": "stdout",
     "output_type": "stream",
     "text": [
      "\n",
      "15-38-19: Processing and saving archive data on drive... (4.49 s)\n",
      "\n"
     ]
    }
   ],
   "source": [
    "if not os.path.exists(archivePath):\n",
    "    \"\"\"\n",
    "    ===================================================================================================\n",
    "    ======== CROP USING A MASK (DRAW RED RECTANGLE ON EXPORTED SAMPLE IN MANUAL MASK FOLDER) ==========\n",
    "    IF MASK IS MISSING YOU CAN DRAW IT USING GUI\n",
    "    \"\"\"\n",
    "    if cropMaskMissing: # search for a mask at cropMaskPath (project -> setup -> parameter)\n",
    "        print(f\"\\nNo crop mask in {mainOutputFolder} folder!, creating mask : {cropMaskName}.png\")\n",
    "        mapXY           = (np.load('./mapx.npy'), np.load('./mapy.npy'))\n",
    "        cv2.imwrite(cropMaskPath, convertGray2RGB(undistort(cv2.imread(image_links[0],0), mapXY)))\n",
    "\n",
    "        p1,p2           = cropGUI(cropMaskPath)\n",
    "        cropMask        = cv2.imread(cropMaskPath,1)\n",
    "\n",
    "        cv2.rectangle(cropMask, p1, p2,[0,0,255],-1)\n",
    "        cv2.imwrite(  cropMaskPath,cropMask)\n",
    "    else:\n",
    "        cropMask = cv2.imread(cropMaskPath,1)\n",
    "    # ---------------------------- ISOLATE RED RECTANGLE BASED ON ITS HUE ------------------------------\n",
    "    cropMask = cv2.cvtColor(cropMask, cv2.COLOR_BGR2HSV)\n",
    "\n",
    "    lower_red = np.array([(0,50,50), (170,50,50)])\n",
    "    upper_red = np.array([(10,255,255), (180,255,255)])\n",
    "\n",
    "    manualMask = cv2.inRange(cropMask, lower_red[0], upper_red[0])\n",
    "    manualMask += cv2.inRange(cropMask, lower_red[1], upper_red[1])\n",
    "\n",
    "    # --------------------- EXTRACT MASK CONTOUR-> BOUNDING RECTANGLE (USED FOR CROP) ------------------\n",
    "    contours = cv2.findContours(manualMask,cv2.RETR_EXTERNAL, cv2.CHAIN_APPROX_SIMPLE)[0]\n",
    "    [X, Y, W, H] = cv2.boundingRect(contours[0])\n",
    "    \"\"\"\n",
    "    ===================================================================================================\n",
    "    =========================== CROP/UNSISTORT AND STORE DATA INTO ARCHIVES ===========================\n",
    "    ---------------------------------------------------------------------------------------------------\n",
    "    \"\"\"\n",
    "    print(f\"\\n{timeHMS()}: Processing and saving archive data on drive... {track_time()}\\n\")\n",
    "    \n",
    "    if rotateImageBy % 2 == 0 and rotateImageBy != -1: W,H = H,W     "
   ]
  },
  {
   "cell_type": "code",
   "execution_count": 10,
   "metadata": {},
   "outputs": [
    {
     "name": "stderr",
     "output_type": "stream",
     "text": [
      "  9%|▉         | 185/1999 [00:21<03:33,  8.51it/s]\n"
     ]
    },
    {
     "ename": "KeyboardInterrupt",
     "evalue": "",
     "output_type": "error",
     "traceback": [
      "\u001b[1;31m---------------------------------------------------------------------------\u001b[0m",
      "\u001b[1;31mKeyboardInterrupt\u001b[0m                         Traceback (most recent call last)",
      "Cell \u001b[1;32mIn[10], line 6\u001b[0m\n\u001b[0;32m      3\u001b[0m mapXY       \u001b[38;5;241m=\u001b[39m (np\u001b[38;5;241m.\u001b[39mload(\u001b[38;5;124m'\u001b[39m\u001b[38;5;124m./mapx.npy\u001b[39m\u001b[38;5;124m'\u001b[39m), np\u001b[38;5;241m.\u001b[39mload(\u001b[38;5;124m'\u001b[39m\u001b[38;5;124m./mapy.npy\u001b[39m\u001b[38;5;124m'\u001b[39m))            \u001b[38;5;66;03m# fish-eye correction map\u001b[39;00m\n\u001b[0;32m      5\u001b[0m \u001b[38;5;28;01mfor\u001b[39;00m i,imageLink \u001b[38;5;129;01min\u001b[39;00m tqdm(\u001b[38;5;28menumerate\u001b[39m(imageLinks), total\u001b[38;5;241m=\u001b[39m\u001b[38;5;28mlen\u001b[39m(imageLinks)):\n\u001b[1;32m----> 6\u001b[0m     image \u001b[38;5;241m=\u001b[39m undistort(\u001b[43mcv2\u001b[49m\u001b[38;5;241;43m.\u001b[39;49m\u001b[43mimread\u001b[49m\u001b[43m(\u001b[49m\u001b[43mimageLink\u001b[49m\u001b[43m,\u001b[49m\u001b[38;5;241;43m0\u001b[39;49m\u001b[43m)\u001b[49m, mapXY)[Y:Y\u001b[38;5;241m+\u001b[39mH, X:X\u001b[38;5;241m+\u001b[39mW]\n\u001b[0;32m      7\u001b[0m     \u001b[38;5;28;01mif\u001b[39;00m rotateImageBy \u001b[38;5;241m!=\u001b[39m \u001b[38;5;241m-\u001b[39m\u001b[38;5;241m1\u001b[39m:\n\u001b[0;32m      8\u001b[0m         dataArchive[i]    \u001b[38;5;241m=\u001b[39m cv2\u001b[38;5;241m.\u001b[39mrotate(image, rotateImageBy)\n",
      "\u001b[1;31mKeyboardInterrupt\u001b[0m: "
     ]
    }
   ],
   "source": [
    "dataArchive = np.zeros((len(image_links),H,W),np.uint8)                  # predefine storage\n",
    "\n",
    "mapXY       = (np.load('./mapx.npy'), np.load('./mapy.npy'))            # fish-eye correction map\n",
    "\n",
    "for i,imageLink in tqdm(enumerate(image_links), total=len(image_links)):\n",
    "    image = cv2.remap(cv2.imread(imageLink,0), mapXY[0], mapXY[1],cv2.INTER_LINEAR)[Y:Y+H, X:X+W]\n",
    "    #image = undistort(cv2.imread(imageLink,0), mapXY)[Y:Y+H, X:X+W]\n",
    "    if rotateImageBy != -1:\n",
    "        dataArchive[i]    = cv2.rotate(image, rotateImageBy)\n",
    "    else:\n",
    "        dataArchive[i]    = image"
   ]
  },
  {
   "cell_type": "code",
   "execution_count": 2,
   "metadata": {},
   "outputs": [
    {
     "name": "stdout",
     "output_type": "stream",
     "text": [
      "[0, 1, 4]\n"
     ]
    }
   ],
   "source": [
    "from multiprocessing import Pool\n",
    "import worker\n",
    "if __name__ ==  '__main__': \n",
    " num_processors = 3\n",
    " p=Pool(processes = num_processors)\n",
    " output = p.map(worker.worker,[i for i in range(0,3)])\n",
    " print(output)"
   ]
  },
  {
   "cell_type": "code",
   "execution_count": 3,
   "metadata": {},
   "outputs": [],
   "source": [
    "from multiprocessing import Pool\n",
    "import worker\n",
    "\n",
    "def a(x):\n",
    "    return worker.worker(x,0)\n",
    "\n",
    "if __name__ ==  '__main__': \n",
    "    num_processors = 3\n",
    "    p=Pool(processes = num_processors)\n",
    "    output = p.map(a,[i for i in range(0,3)])\n",
    "    print(output)"
   ]
  },
  {
   "cell_type": "code",
   "execution_count": null,
   "metadata": {},
   "outputs": [],
   "source": [
    "dataArchive = np.zeros((len(image_links),H,W),np.uint8)                  # predefine storage\n",
    "from multiprocessing import Pool\n",
    "import worker\n",
    "\n",
    "def a(x):\n",
    "    return worker.worker(x,0)\n",
    "\n",
    "if __name__ ==  '__main__': \n",
    "    num_processors = 3\n",
    "    p=Pool(processes = num_processors)\n",
    "    output = p.map(a,[i for i in range(0,3)])\n",
    "    print(output)\n",
    "mapXY       = (np.load('./mapx.npy'), np.load('./mapy.npy'))            # fish-eye correction map\n",
    "\n",
    "for i,imageLink in tqdm(enumerate(image_links), total=len(image_links)):\n",
    "    image = cv2.remap(cv2.imread(imageLink,0), mapXY[0], mapXY[1],cv2.INTER_LINEAR)[Y:Y+H, X:X+W]\n",
    "    #image = undistort(cv2.imread(imageLink,0), mapXY)[Y:Y+H, X:X+W]\n",
    "    if rotateImageBy != -1:\n",
    "        dataArchive[i]    = cv2.rotate(image, rotateImageBy)\n",
    "    else:\n",
    "        dataArchive[i]    = image"
   ]
  },
  {
   "cell_type": "code",
   "execution_count": 8,
   "metadata": {},
   "outputs": [
    {
     "name": "stdout",
     "output_type": "stream",
     "text": [
      "[[[2 4]\n",
      "  [1 3]]\n",
      "\n",
      " [[6 8]\n",
      "  [5 7]]]\n"
     ]
    }
   ],
   "source": [
    "import numpy as np\n",
    "a = np.array([  [   [1,2],\n",
    "                    [3,4]   ],\n",
    "\n",
    "                [   [5,6],\n",
    "                    [7,8]   ]  ])\n",
    "b = np.rot90(a, 1, (1,2))\n",
    "print(b)"
   ]
  },
  {
   "cell_type": "code",
   "execution_count": 26,
   "metadata": {},
   "outputs": [
    {
     "name": "stdout",
     "output_type": "stream",
     "text": [
      "Final Weighted Mean: 3.0\n",
      "Actual Mean: 3.0\n"
     ]
    }
   ],
   "source": [
    "import numpy as np\n",
    "\n",
    "a = [1, 2, 3, 4, 5]\n",
    "b1 = np.mean(a)\n",
    "step = 4\n",
    "num_part = int(np.ceil(len(a) / step))\n",
    "partition = [a[i:i + step] for i in range(0, num_part * step, step)]\n",
    "\n",
    "weighted_mean = 0.0\n",
    "total_weight = 0\n",
    "\n",
    "for part in partition:\n",
    "    part_mean = np.mean(part)\n",
    "    part_weight = len(part)\n",
    "    \n",
    "    weighted_mean = (weighted_mean * total_weight + part_mean * part_weight) / (total_weight + part_weight)\n",
    "    \n",
    "    total_weight += part_weight\n",
    "\n",
    "print(\"Final Weighted Mean:\", weighted_mean)\n",
    "print(\"Actual Mean:\", b1)\n"
   ]
  },
  {
   "cell_type": "code",
   "execution_count": 46,
   "metadata": {},
   "outputs": [
    {
     "name": "stdout",
     "output_type": "stream",
     "text": [
      "[  0  10  20  30  40  50  60  70  80  90 100 110 120 130 140 150 160 170\n",
      " 180 190 200 210 220 230 240 250]\n",
      "[205 215 225 235 245 255 255 255 255 255 255 255 255 255 255 255 255 255\n",
      " 255 255 255 255 255 255 255 255]\n",
      "[  0   0   0   0   0 255 255 255 255 255 255 255 255 255 255 255 255 255\n",
      " 255 255 255 255 255 255 255 255]\n"
     ]
    }
   ],
   "source": [
    "import numpy as np\n",
    "a = np.arange(0,255,10)\n",
    "thld = 50\n",
    "delta = (255-thld)\n",
    "print(a)\n",
    "a += delta\n",
    "a = np.clip(a,0,255)\n",
    "print(a)\n",
    "a = np.where(a >= 255, a, 0)\n",
    "\n",
    "print(a)"
   ]
  },
  {
   "cell_type": "code",
   "execution_count": 101,
   "metadata": {},
   "outputs": [
    {
     "name": "stdout",
     "output_type": "stream",
     "text": [
      "9\n",
      "[[1 1 1 0 0]\n",
      " [1 1 1 1 0]\n",
      " [1 1 1 1 1]\n",
      " [1 1 1 1 1]\n",
      " [0 0 1 1 1]]\n",
      "tensor([[[[1, 1, 1, 0, 0],\n",
      "          [1, 1, 1, 1, 0],\n",
      "          [1, 1, 1, 1, 1],\n",
      "          [1, 1, 1, 1, 1],\n",
      "          [0, 0, 1, 1, 1]]]], dtype=torch.int16)\n"
     ]
    }
   ],
   "source": [
    "import cv2\n",
    "import numpy as np\n",
    "import torch\n",
    "\n",
    "kernel = np.array([ [1, 1, 1],\n",
    "                    [1, 1, 1],\n",
    "                    [1, 1, 1] ], dtype=np.float32)#/(9)\n",
    "kernel = np.ones((3,3),np.int16)\n",
    "full_area = np.sum(kernel);print(full_area)\n",
    "\n",
    "im = np.array([ [1, 1, 1, 0, 0],\n",
    "                [1, 1, 1, 1, 0],\n",
    "                [1, 1, 1, 1, 1],\n",
    "                [1, 1, 1, 1, 1],\n",
    "                [0, 0, 1, 1, 1]], dtype=np.int16)\n",
    "\n",
    "im = np.array([ [0, 0, 0, 0, 0],\n",
    "                [0, 1, 0, 0, 0],\n",
    "                [0, 1, 1, 0, 0],\n",
    "                [0, 0, 0, 1, 0],\n",
    "                [0, 0, 0, 0, 0] ], dtype=np.int16)\n",
    "\n",
    "\n",
    "\n",
    "mode = 1\n",
    "if mode == 0:\n",
    "    print(cv2.erode(im, kernel, borderValue = 0))\n",
    "else:\n",
    "    print(cv2.dilate(im, kernel, borderValue = 0))\n",
    "\n",
    "def morph_erode_dilate(im_tensor, kernel, mode):\n",
    "    padding = (kernel.shape[-1]//2,)*2#;print(padding)\n",
    "    torch_result0   = torch.nn.functional.conv2d(im_tensor, kernel, padding=padding)\n",
    "    #print(torch_result0)\n",
    "    if mode == 0:\n",
    "        full_area = torch.sum(kernel)\n",
    "        torch_result0.add_(-full_area + 1)\n",
    "        #print(torch_result0)\n",
    "    return torch_result0.clamp_(0, 1)\n",
    "\n",
    "im_tensor       = torch.tensor(im).unsqueeze(0).unsqueeze(0) # size:(1, 1, 5, 5)\n",
    "kernel_tensor   = torch.tensor(kernel).unsqueeze(0).unsqueeze(0) # size: (1, 1, 3, 3)\n",
    "torch_result    = morph_erode_dilate(im_tensor, kernel_tensor, mode = mode)\n",
    "print(torch_result)\n",
    "# if 1 == -1:\n",
    "#     conv            = torch.nn.Conv2d(1, 1, kernel_size = 5, bias = False, padding = 'same', padding_mode ='zeros')\n",
    "#     conv.weight     = torch.nn.Parameter(kernel_tensor) \n",
    "#     torch_result0   = conv(im_tensor).squeeze().squeeze()\n",
    "# else:\n",
    "#     padding = (kernel_tensor.shape[-1]//2,)*2;print(padding)\n",
    "#     torch_result0   = torch.nn.functional.conv2d(im_tensor, kernel_tensor, padding=padding)\n",
    "# print(torch_result0)\n",
    "# torch_result0.add_(-full_area + 1)\n",
    "# torch_result    = torch.clamp(torch_result0, 0, 1)\n",
    "# torch_result0.add_(1.0)\n",
    "# T = torch.nn.Threshold(1, 0, inplace=True)\n",
    "#print(torch_result)"
   ]
  },
  {
   "cell_type": "code",
   "execution_count": 33,
   "metadata": {},
   "outputs": [
    {
     "name": "stdout",
     "output_type": "stream",
     "text": [
      "81.3 µs ± 15.1 µs per loop (mean ± std. dev. of 7 runs, 10,000 loops each)\n"
     ]
    }
   ],
   "source": [
    "%%timeit\n",
    "im_tensor       = torch.tensor(im).unsqueeze(0).unsqueeze(0) # size:(1, 1, 5, 5)\n",
    "kernel_tensor   = torch.tensor(kernel).unsqueeze(0).unsqueeze(0) # size: (1, 1, 3, 3)\n",
    "torch_result0   = torch.nn.functional.conv2d(im_tensor, kernel_tensor, padding=(1, 1))"
   ]
  },
  {
   "cell_type": "code",
   "execution_count": 38,
   "metadata": {},
   "outputs": [
    {
     "name": "stdout",
     "output_type": "stream",
     "text": [
      "204 µs ± 7.21 µs per loop (mean ± std. dev. of 7 runs, 1,000 loops each)\n"
     ]
    }
   ],
   "source": [
    "%%timeit\n",
    "with torch.no_grad():\n",
    "    im_tensor       = torch.tensor(im).unsqueeze(0).unsqueeze(0) # size:(1, 1, 5, 5)\n",
    "    kernel_tensor   = torch.tensor(kernel).unsqueeze(0).unsqueeze(0) # size: (1, 1, 3, 3)\n",
    "    conv            = torch.nn.Conv2d(1, 1, kernel_size = 5, bias = False, padding = 'same', padding_mode ='zeros')\n",
    "    conv.weight     = torch.nn.Parameter(kernel_tensor) \n",
    "    torch_result0   = conv(im_tensor).squeeze().squeeze()"
   ]
  },
  {
   "cell_type": "code",
   "execution_count": 105,
   "metadata": {},
   "outputs": [
    {
     "name": "stdout",
     "output_type": "stream",
     "text": [
      "(1000, 5, 5)\n",
      "torch.Size([1000, 1, 5, 5])\n"
     ]
    }
   ],
   "source": [
    "N = 1000\n",
    "imgs0 =  np.stack([im] * N, axis=0);print(imgs0.shape)\n",
    "kernel = kernel\n",
    "imgs2 = torch.from_numpy(imgs0).unsqueeze(1);print(imgs2.shape)\n",
    "kernel_tensor   = torch.tensor(kernel).unsqueeze(0).unsqueeze(0)"
   ]
  },
  {
   "cell_type": "code",
   "execution_count": 133,
   "metadata": {},
   "outputs": [
    {
     "name": "stdout",
     "output_type": "stream",
     "text": [
      "97.65625  Kb\n"
     ]
    }
   ],
   "source": [
    "device = torch.device('cuda' if torch.cuda.is_available() else 'cpu')\n",
    "imgs2 = imgs2.to(device).to(torch.float)\n",
    "kernel_tensor = kernel_tensor.to(device).to(torch.float)\n",
    "print(imgs2.element_size() * imgs2.numel()/ 1024.0,' Kb')"
   ]
  },
  {
   "cell_type": "code",
   "execution_count": 134,
   "metadata": {},
   "outputs": [
    {
     "name": "stdout",
     "output_type": "stream",
     "text": [
      "42.8 µs ± 2.26 µs per loop (mean ± std. dev. of 7 runs, 10,000 loops each)\n"
     ]
    }
   ],
   "source": [
    "%%timeit\n",
    "torch_result    = morph_erode_dilate(imgs2, kernel_tensor, mode = 1)"
   ]
  },
  {
   "cell_type": "code",
   "execution_count": 109,
   "metadata": {},
   "outputs": [
    {
     "name": "stdout",
     "output_type": "stream",
     "text": [
      "4.96 ms ± 347 µs per loop (mean ± std. dev. of 7 runs, 100 loops each)\n"
     ]
    }
   ],
   "source": [
    "%%timeit\n",
    "#dilated_images = np.zeros_like(imgs0)\n",
    "for i in range(N):\n",
    "    imgs0[i] = cv2.dilate(imgs0[i], kernel, borderValue = 0)\n"
   ]
  },
  {
   "cell_type": "code",
   "execution_count": 124,
   "metadata": {},
   "outputs": [],
   "source": [
    "torch.cuda.empty_cache()"
   ]
  },
  {
   "cell_type": "code",
   "execution_count": 116,
   "metadata": {},
   "outputs": [],
   "source": [
    "import torch, numpy as np\n",
    "device = torch.device('cuda' if torch.cuda.is_available() else 'cpu')\n",
    "import torch.nn as nn\n",
    "\n",
    "N, H, W = 600, 800, 1200  # Adjust as needed\n",
    "#N, H, W = 1, 4, 4  # Adjust as needed\n",
    "torch.manual_seed(44)\n",
    "# Generate a random tensor with values between 0.0 and 1.0\n",
    "random_tensor = torch.rand(N, H, W)\n",
    "\n",
    "# Scale and shift the values to the desired range [-20.0, 255.0]\n",
    "batch = random_tensor * 275.0 - 30.0\n",
    "batch.to(device)\n",
    "#print(batch)\n",
    "\n",
    "nn_threshold = nn.Threshold(254, 0, inplace=True).to(device)\n",
    "threshold = 50.0\n",
    "nn_threshold1 = nn.Threshold(threshold, 0, inplace=True).to(device)\n",
    "\n",
    "nn_threshold2 = nn.Threshold(0, -255 + 0.001, inplace=True).to(device)\n",
    "\n",
    "\n"
   ]
  },
  {
   "cell_type": "code",
   "execution_count": 109,
   "metadata": {},
   "outputs": [
    {
     "name": "stdout",
     "output_type": "stream",
     "text": [
      "1.59 s ± 54.5 ms per loop (mean ± std. dev. of 7 runs, 1 loop each)\n"
     ]
    }
   ],
   "source": [
    "%%timeit\n",
    "#print(batch)\n",
    "threshold = 50\n",
    "batch0 = batch.clone()\n",
    "#torch.clamp_(batch0, min = 0, max = 255)\n",
    "delta = (255-threshold + 0.5) # simulate rounding after cast to int by adding 0.5: 0.4->0.9->0 and 0.9->1.4->1\n",
    "batch0.add_(delta)\n",
    "batch0 = batch0.to(torch.int16)\n",
    "#print(batch0)\n",
    "torch.clamp_(batch0, min = 0, max = 255)\n",
    "#print(batch0)\n",
    "nn_threshold(batch0)\n",
    "\n",
    "#print(batch0)"
   ]
  },
  {
   "cell_type": "code",
   "execution_count": 119,
   "metadata": {},
   "outputs": [
    {
     "name": "stdout",
     "output_type": "stream",
     "text": [
      "tensor([[[ True,  True,  True,  ...,  True,  True,  True],\n",
      "         [False, False,  True,  ...,  True, False,  True],\n",
      "         [ True,  True, False,  ..., False,  True,  True],\n",
      "         ...,\n",
      "         [ True,  True, False,  ...,  True, False,  True],\n",
      "         [ True, False, False,  ...,  True, False, False],\n",
      "         [ True,  True, False,  ...,  True, False,  True]],\n",
      "\n",
      "        [[ True, False,  True,  ..., False, False,  True],\n",
      "         [False,  True, False,  ...,  True,  True, False],\n",
      "         [ True, False,  True,  ...,  True,  True,  True],\n",
      "         ...,\n",
      "         [False, False, False,  ...,  True,  True,  True],\n",
      "         [ True,  True,  True,  ...,  True,  True,  True],\n",
      "         [False,  True,  True,  ...,  True,  True, False]],\n",
      "\n",
      "        [[ True,  True,  True,  ...,  True, False,  True],\n",
      "         [ True,  True,  True,  ..., False, False,  True],\n",
      "         [ True,  True,  True,  ...,  True,  True,  True],\n",
      "         ...,\n",
      "         [ True,  True, False,  ...,  True,  True, False],\n",
      "         [ True,  True,  True,  ...,  True,  True,  True],\n",
      "         [ True,  True,  True,  ...,  True, False,  True]],\n",
      "\n",
      "        ...,\n",
      "\n",
      "        [[ True, False,  True,  ...,  True,  True,  True],\n",
      "         [ True,  True,  True,  ..., False, False, False],\n",
      "         [ True,  True,  True,  ...,  True,  True,  True],\n",
      "         ...,\n",
      "         [ True,  True,  True,  ...,  True,  True,  True],\n",
      "         [False,  True,  True,  ..., False,  True,  True],\n",
      "         [ True,  True,  True,  ...,  True,  True, False]],\n",
      "\n",
      "        [[ True, False,  True,  ..., False, False,  True],\n",
      "         [ True,  True,  True,  ...,  True,  True,  True],\n",
      "         [ True,  True, False,  ...,  True, False,  True],\n",
      "         ...,\n",
      "         [ True,  True,  True,  ...,  True,  True,  True],\n",
      "         [ True,  True, False,  ...,  True,  True, False],\n",
      "         [ True,  True, False,  ..., False, False, False]],\n",
      "\n",
      "        [[ True, False, False,  ..., False,  True,  True],\n",
      "         [ True, False,  True,  ...,  True,  True, False],\n",
      "         [False, False, False,  ..., False,  True,  True],\n",
      "         ...,\n",
      "         [ True,  True,  True,  ...,  True,  True,  True],\n",
      "         [ True,  True, False,  ..., False,  True,  True],\n",
      "         [ True,  True,  True,  ..., False,  True,  True]]])\n"
     ]
    }
   ],
   "source": [
    "#%%timeit\n",
    "#print(batch)\n",
    "threshold = 50\n",
    "\n",
    "batch0 = batch.clone()\n",
    "batch0 = batch0 > threshold\n",
    "# torch.clamp_(batch0, min = threshold, max = None)\n",
    "# #print(batch0)\n",
    "# batch0.add_(-threshold)\n",
    "# #print(batch0)\n",
    "# batch0 = batch0 > 0\n",
    "print(batch0)"
   ]
  },
  {
   "cell_type": "code",
   "execution_count": 77,
   "metadata": {},
   "outputs": [
    {
     "name": "stdout",
     "output_type": "stream",
     "text": [
      "38.5 µs ± 2.31 µs per loop (mean ± std. dev. of 7 runs, 10,000 loops each)\n"
     ]
    }
   ],
   "source": [
    "%%timeit\n",
    "#print(batch)\n",
    "batch0 = batch.clone()\n",
    "batch0[batch0 <   threshold]  = 0\n",
    "batch0[batch0 >=  threshold]  = 255\n",
    "#print(batch0)"
   ]
  },
  {
   "cell_type": "code",
   "execution_count": 105,
   "metadata": {},
   "outputs": [
    {
     "ename": "KeyboardInterrupt",
     "evalue": "",
     "output_type": "error",
     "traceback": [
      "\u001b[1;31m---------------------------------------------------------------------------\u001b[0m",
      "\u001b[1;31mKeyboardInterrupt\u001b[0m                         Traceback (most recent call last)",
      "Cell \u001b[1;32mIn[105], line 1\u001b[0m\n\u001b[1;32m----> 1\u001b[0m \u001b[43mget_ipython\u001b[49m\u001b[43m(\u001b[49m\u001b[43m)\u001b[49m\u001b[38;5;241;43m.\u001b[39;49m\u001b[43mrun_cell_magic\u001b[49m\u001b[43m(\u001b[49m\u001b[38;5;124;43m'\u001b[39;49m\u001b[38;5;124;43mtimeit\u001b[39;49m\u001b[38;5;124;43m'\u001b[39;49m\u001b[43m,\u001b[49m\u001b[43m \u001b[49m\u001b[38;5;124;43m'\u001b[39;49m\u001b[38;5;124;43m'\u001b[39;49m\u001b[43m,\u001b[49m\u001b[43m \u001b[49m\u001b[38;5;124;43m'\u001b[39;49m\u001b[38;5;124;43m#print(batch)\u001b[39;49m\u001b[38;5;130;43;01m\\n\u001b[39;49;00m\u001b[38;5;124;43mbatch0 = batch.clone()\u001b[39;49m\u001b[38;5;130;43;01m\\n\u001b[39;49;00m\u001b[38;5;124;43mnn_threshold1(batch0)\u001b[39;49m\u001b[38;5;130;43;01m\\n\u001b[39;49;00m\u001b[38;5;130;43;01m\\n\u001b[39;49;00m\u001b[38;5;124;43mbatch0 *= -1.0\u001b[39;49m\u001b[38;5;130;43;01m\\n\u001b[39;49;00m\u001b[38;5;124;43mbatch0 += 0.001\u001b[39;49m\u001b[38;5;130;43;01m\\n\u001b[39;49;00m\u001b[38;5;130;43;01m\\n\u001b[39;49;00m\u001b[38;5;124;43mnn_threshold2(batch0)\u001b[39;49m\u001b[38;5;130;43;01m\\n\u001b[39;49;00m\u001b[38;5;124;43mbatch0 -= 0.001\u001b[39;49m\u001b[38;5;130;43;01m\\n\u001b[39;49;00m\u001b[38;5;124;43mbatch0 *= -1.\u001b[39;49m\u001b[38;5;130;43;01m\\n\u001b[39;49;00m\u001b[38;5;124;43m#print(batch0)\u001b[39;49m\u001b[38;5;130;43;01m\\n\u001b[39;49;00m\u001b[38;5;124;43m'\u001b[39;49m\u001b[43m)\u001b[49m\n",
      "File \u001b[1;32mc:\\Users\\Hot Mexican\\VS_Code_Proj\\.venv\\lib\\site-packages\\IPython\\core\\interactiveshell.py:2517\u001b[0m, in \u001b[0;36mInteractiveShell.run_cell_magic\u001b[1;34m(self, magic_name, line, cell)\u001b[0m\n\u001b[0;32m   2515\u001b[0m \u001b[38;5;28;01mwith\u001b[39;00m \u001b[38;5;28mself\u001b[39m\u001b[38;5;241m.\u001b[39mbuiltin_trap:\n\u001b[0;32m   2516\u001b[0m     args \u001b[38;5;241m=\u001b[39m (magic_arg_s, cell)\n\u001b[1;32m-> 2517\u001b[0m     result \u001b[38;5;241m=\u001b[39m fn(\u001b[38;5;241m*\u001b[39margs, \u001b[38;5;241m*\u001b[39m\u001b[38;5;241m*\u001b[39mkwargs)\n\u001b[0;32m   2519\u001b[0m \u001b[38;5;66;03m# The code below prevents the output from being displayed\u001b[39;00m\n\u001b[0;32m   2520\u001b[0m \u001b[38;5;66;03m# when using magics with decorator @output_can_be_silenced\u001b[39;00m\n\u001b[0;32m   2521\u001b[0m \u001b[38;5;66;03m# when the last Python token in the expression is a ';'.\u001b[39;00m\n\u001b[0;32m   2522\u001b[0m \u001b[38;5;28;01mif\u001b[39;00m \u001b[38;5;28mgetattr\u001b[39m(fn, magic\u001b[38;5;241m.\u001b[39mMAGIC_OUTPUT_CAN_BE_SILENCED, \u001b[38;5;28;01mFalse\u001b[39;00m):\n",
      "File \u001b[1;32mc:\\Users\\Hot Mexican\\VS_Code_Proj\\.venv\\lib\\site-packages\\IPython\\core\\magics\\execution.py:1189\u001b[0m, in \u001b[0;36mExecutionMagics.timeit\u001b[1;34m(self, line, cell, local_ns)\u001b[0m\n\u001b[0;32m   1186\u001b[0m         \u001b[38;5;28;01mif\u001b[39;00m time_number \u001b[38;5;241m>\u001b[39m\u001b[38;5;241m=\u001b[39m \u001b[38;5;241m0.2\u001b[39m:\n\u001b[0;32m   1187\u001b[0m             \u001b[38;5;28;01mbreak\u001b[39;00m\n\u001b[1;32m-> 1189\u001b[0m all_runs \u001b[38;5;241m=\u001b[39m \u001b[43mtimer\u001b[49m\u001b[38;5;241;43m.\u001b[39;49m\u001b[43mrepeat\u001b[49m\u001b[43m(\u001b[49m\u001b[43mrepeat\u001b[49m\u001b[43m,\u001b[49m\u001b[43m \u001b[49m\u001b[43mnumber\u001b[49m\u001b[43m)\u001b[49m\n\u001b[0;32m   1190\u001b[0m best \u001b[38;5;241m=\u001b[39m \u001b[38;5;28mmin\u001b[39m(all_runs) \u001b[38;5;241m/\u001b[39m number\n\u001b[0;32m   1191\u001b[0m worst \u001b[38;5;241m=\u001b[39m \u001b[38;5;28mmax\u001b[39m(all_runs) \u001b[38;5;241m/\u001b[39m number\n",
      "File \u001b[1;32mC:\\Program Files (x86)\\Microsoft Visual Studio\\Shared\\Python39_64\\lib\\timeit.py:205\u001b[0m, in \u001b[0;36mTimer.repeat\u001b[1;34m(self, repeat, number)\u001b[0m\n\u001b[0;32m    203\u001b[0m r \u001b[38;5;241m=\u001b[39m []\n\u001b[0;32m    204\u001b[0m \u001b[38;5;28;01mfor\u001b[39;00m i \u001b[38;5;129;01min\u001b[39;00m \u001b[38;5;28mrange\u001b[39m(repeat):\n\u001b[1;32m--> 205\u001b[0m     t \u001b[38;5;241m=\u001b[39m \u001b[38;5;28;43mself\u001b[39;49m\u001b[38;5;241;43m.\u001b[39;49m\u001b[43mtimeit\u001b[49m\u001b[43m(\u001b[49m\u001b[43mnumber\u001b[49m\u001b[43m)\u001b[49m\n\u001b[0;32m    206\u001b[0m     r\u001b[38;5;241m.\u001b[39mappend(t)\n\u001b[0;32m    207\u001b[0m \u001b[38;5;28;01mreturn\u001b[39;00m r\n",
      "File \u001b[1;32mc:\\Users\\Hot Mexican\\VS_Code_Proj\\.venv\\lib\\site-packages\\IPython\\core\\magics\\execution.py:173\u001b[0m, in \u001b[0;36mTimer.timeit\u001b[1;34m(self, number)\u001b[0m\n\u001b[0;32m    171\u001b[0m gc\u001b[38;5;241m.\u001b[39mdisable()\n\u001b[0;32m    172\u001b[0m \u001b[38;5;28;01mtry\u001b[39;00m:\n\u001b[1;32m--> 173\u001b[0m     timing \u001b[38;5;241m=\u001b[39m \u001b[38;5;28;43mself\u001b[39;49m\u001b[38;5;241;43m.\u001b[39;49m\u001b[43minner\u001b[49m\u001b[43m(\u001b[49m\u001b[43mit\u001b[49m\u001b[43m,\u001b[49m\u001b[43m \u001b[49m\u001b[38;5;28;43mself\u001b[39;49m\u001b[38;5;241;43m.\u001b[39;49m\u001b[43mtimer\u001b[49m\u001b[43m)\u001b[49m\n\u001b[0;32m    174\u001b[0m \u001b[38;5;28;01mfinally\u001b[39;00m:\n\u001b[0;32m    175\u001b[0m     \u001b[38;5;28;01mif\u001b[39;00m gcold:\n",
      "File \u001b[1;32m<magic-timeit>:6\u001b[0m, in \u001b[0;36minner\u001b[1;34m(_it, _timer)\u001b[0m\n",
      "\u001b[1;31mKeyboardInterrupt\u001b[0m: "
     ]
    }
   ],
   "source": [
    "\n",
    "%%timeit\n",
    "#print(batch)\n",
    "batch0 = batch.clone()\n",
    "nn_threshold1(batch0)\n",
    "\n",
    "batch0 *= -1.0\n",
    "batch0 += 0.001\n",
    "\n",
    "nn_threshold2(batch0)\n",
    "batch0 -= 0.001\n",
    "batch0 *= -1.\n",
    "#print(batch0)"
   ]
  },
  {
   "cell_type": "code",
   "execution_count": 126,
   "metadata": {},
   "outputs": [
    {
     "name": "stdout",
     "output_type": "stream",
     "text": [
      "tensor([[[[0, 2, 0],\n",
      "          [2, 2, 2],\n",
      "          [0, 2, 0]]]], dtype=torch.uint8)\n",
      "tensor([[[[1.7854, 1.7363],\n",
      "          [1.2084, 1.4256]]],\n",
      "\n",
      "\n",
      "        [[[1.6506, 1.4586],\n",
      "          [1.3093, 1.3809]]],\n",
      "\n",
      "\n",
      "        [[[1.2739, 0.9926],\n",
      "          [1.5014, 1.1683]]]])\n"
     ]
    }
   ],
   "source": [
    "import cv2\n",
    "def kernle_circular(width):\n",
    "    return torch.from_numpy(cv2.getStructuringElement(cv2.MORPH_ELLIPSE,(width,width))).unsqueeze_(0).unsqueeze_(0)\n",
    "print(kernle_circular(3) + kernle_circular(3))\n",
    "\n",
    "a = torch.rand(3,1,2,2)\n",
    "b = torch.rand(1,1,2,2)\n",
    "print(a + b)"
   ]
  },
  {
   "cell_type": "code",
   "execution_count": 123,
   "metadata": {},
   "outputs": [
    {
     "name": "stdout",
     "output_type": "stream",
     "text": [
      "Size of torch.float element: 4 bytes\n",
      "Size of torch.bool element: 1 bytes\n"
     ]
    }
   ],
   "source": [
    "import torch\n",
    "\n",
    "# Size of an individual element in bytes for torch.float and torch.bool\n",
    "float_element_size = torch.tensor([1.0], dtype=torch.float).element_size()\n",
    "bool_element_size = torch.tensor([True], dtype=torch.bool).element_size()\n",
    "\n",
    "print(\"Size of torch.float element:\", float_element_size, \"bytes\")\n",
    "print(\"Size of torch.bool element:\", bool_element_size, \"bytes\")\n"
   ]
  },
  {
   "cell_type": "code",
   "execution_count": 9,
   "metadata": {},
   "outputs": [
    {
     "name": "stdout",
     "output_type": "stream",
     "text": [
      "[(0, 100), (100, 200), (200, 300), (300, 400), (400, 500), (500, 551)]\n"
     ]
    }
   ],
   "source": [
    "\n",
    "slice_width = 100\n",
    "\n",
    "data_length = 551\n",
    "\n",
    "def gen_slices(data_length, slice_width):\n",
    "    # input:    data_length, slice_width = 551, 100\n",
    "    # output:   [(0, 100), (100, 200), (200, 300), (300, 400), (400, 500), (500, 551)] \n",
    "    return [(i,min(i+slice_width, data_length)) for i in range(0, data_length, slice_width)]\n",
    "\n",
    "print(gen_slices(data_length, slice_width)) #[(0, 100), (100, 200), (200, 300), (300, 400), (400, 500), (500, 551)]"
   ]
  },
  {
   "cell_type": "code",
   "execution_count": 17,
   "metadata": {},
   "outputs": [
    {
     "name": "stdout",
     "output_type": "stream",
     "text": [
      "[[0, 4, 8], [1, 5], [2, 6], [3, 7]]\n",
      "List 0: [0, 4, 8]\n",
      "List 1: [1, 5]\n",
      "List 2: [2, 6]\n",
      "List 3: [3, 7]\n"
     ]
    }
   ],
   "source": [
    "def redistribute_vals_bins(values, num_lists):\n",
    "    # input: values = [0, 1, 2, 3, 4, 5, 6, 7]; num_lists  = 4\n",
    "    # output : [[0, 4, 8], [1, 5], [2, 6], [3, 7]]\n",
    "    max_bins = min(len(values),num_lists)\n",
    "    lists = [[] for _ in range(max_bins)]\n",
    "    for i, slice_range in enumerate(values):\n",
    "        list_index = i % max_bins\n",
    "        lists[list_index].append(slice_range)\n",
    "    return lists\n",
    "\n",
    "slices = [0,1,2,3,4,5,6,7,8]\n",
    "num_lists = 4\n",
    "redistributed_lists = redistribute_vals_bins(slices, num_lists)\n",
    "print(redistributed_lists)\n",
    "# Print the result\n",
    "for i, lst in enumerate(redistributed_lists):\n",
    "    print(f\"List {i}: {lst}\")\n"
   ]
  },
  {
   "cell_type": "code",
   "execution_count": 21,
   "metadata": {},
   "outputs": [],
   "source": [
    "def process_file_names(search_folder, format, idx_interval):\n",
    "    \"\"\"\n",
    "    function searches 'search_folder' and its subfolders for files with format 'format'\n",
    "    it returns file links sorted by 'idx' integer value in name and int is within given interval.\n",
    "    min and max idx are return\n",
    "    sorting tries to fix e.g [\"10\", \"100\", \"11\", \"12\"] is not correct sorting\n",
    "    \n",
    "    \"\"\"\n",
    "    import re, os, glob\n",
    "    image_links = glob.glob(search_folder + f\"**/*.{format}\", recursive=True)\n",
    "    #imageLinks = [f'folder/{i}.bmp' for i in list(range(0,3)) + list(range(6,8))]  # dummy test\n",
    "    interval_start, interval_stop = idx_interval\n",
    "\n",
    "    assert len(image_links)> 0, \"No files inside directory\" \n",
    "\n",
    "    int_from_filename = lambda x: int(re.findall('\\d+', os.path.basename(x))[0])                           \n",
    "    temp_dict           = {i:None for i in range(interval_start,interval_stop)}   # store ordered\n",
    "    idx_min, idx_max    = interval_stop, interval_start                           # initialize boundaries\n",
    "    count = 0                                                                   # num of viable\n",
    "    for image_link in image_links:\n",
    "        idx = int_from_filename(image_link)                                     \n",
    "        if interval_start <= idx < interval_stop:                                 # filter useful\n",
    "            temp_dict[idx] = image_link\n",
    "            idx_min = min(idx, idx_min)                                         # update boundaries\n",
    "            idx_max = max(idx, idx_max)\n",
    "            count += 1\n",
    "\n",
    "    output = [image_links[-1]] * count                                            # predefine output\n",
    "    if count == interval_stop - interval_start:                                   # check if interval is filled\n",
    "        output = list(temp_dict.values())\n",
    "    else:                                                                        # else determine missing\n",
    "        temp = []\n",
    "        i = 0\n",
    "        for idx, image_link in temp_dict.items():\n",
    "            if image_link is not None:\n",
    "                output[i] = image_link\n",
    "                i += 1\n",
    "            else:\n",
    "                temp.append(idx)\n",
    "\n",
    "        print(f'Missing image IDs: {temp}')\n",
    "\n",
    "    return output, idx_min, idx_max"
   ]
  },
  {
   "cell_type": "code",
   "execution_count": 20,
   "metadata": {},
   "outputs": [
    {
     "name": "stdout",
     "output_type": "stream",
     "text": [
      "4\n"
     ]
    }
   ],
   "source": [
    "def create_folders(mainOutputFolder, mainOutputSubFolders, idx_interval, do_prerun_output, pad_to):\n",
    "    \"\"\"\n",
    "    function creates main project  folder and output subfolders inside it\n",
    "    adds final workplace subfolder for subset of data e.g for images folder '0001-2999'\n",
    "    in images output folder there are two folders. one is pre_run, for debugging initial state\n",
    "    and one for final output\n",
    "    \"\"\"\n",
    "    interval_start, interval_stop = idx_interval\n",
    "    if not os.path.exists(mainOutputFolder): os.mkdir(mainOutputFolder)  \n",
    "    \n",
    "    mainOutputSubFolders.append(f\"{interval_start:0{pad_to}}-{interval_stop:0{pad_to}}\")       # sub-project folder hierarhy e.g [exp setup, parameter, subset of data]\n",
    "\n",
    "    for folderName in mainOutputSubFolders:     \n",
    "        mainOutputFolder = os.path.join(mainOutputFolder, folderName)               \n",
    "        if not os.path.exists(mainOutputFolder): os.mkdir(mainOutputFolder)\n",
    "\n",
    "\n",
    "    images      = os.path.join(mainOutputFolder, 'images'    )\n",
    "    stages      = os.path.join(mainOutputFolder, 'stages'    )\n",
    "    archives    = os.path.join(mainOutputFolder, 'archives'  )\n",
    "    graphs      = os.path.join(mainOutputFolder, 'graphs'    )\n",
    "\n",
    "    [os.mkdir(folder) for folder in (images, stages, archives, graphs) if not os.path.exists(folder)]\n",
    "\n",
    "    \n",
    "    images_output = os.path.join(images, 'output')\n",
    "    if not os.path.exists(images_output): os.mkdir(images_output)\n",
    "\n",
    "    pre_run = None\n",
    "    if do_prerun_output:\n",
    "        pre_run = os.path.join(images, 'prerun')\n",
    "        if not os.path.exists(pre_run): os.mkdir(pre_run)\n",
    "\n",
    "\n",
    "    return images, stages, archives, graphs, images_output, pre_run"
   ]
  },
  {
   "cell_type": "code",
   "execution_count": 32,
   "metadata": {},
   "outputs": [
    {
     "name": "stdout",
     "output_type": "stream",
     "text": [
      "2.6\n",
      "2.6000000000000005\n"
     ]
    }
   ],
   "source": [
    "d = np.array([1,1,1,3])\n",
    "w = np.array([1,0,0,4])\n",
    "\n",
    "print(np.average(d, weights=w))\n",
    "print(np.average(d, weights=w/np.sum(w)))\n",
    "#print(np.average(d,w))"
   ]
  },
  {
   "cell_type": "code",
   "execution_count": 33,
   "metadata": {},
   "outputs": [
    {
     "name": "stdout",
     "output_type": "stream",
     "text": [
      "   42\n"
     ]
    }
   ],
   "source": [
    "N = 5\n",
    "intervalStart = 42\n",
    "\n",
    "padded_string = f\"{intervalStart:>{N}}\"\n",
    "print(padded_string)"
   ]
  },
  {
   "cell_type": "code",
   "execution_count": 38,
   "metadata": {},
   "outputs": [
    {
     "name": "stdout",
     "output_type": "stream",
     "text": [
      "8\n"
     ]
    }
   ],
   "source": [
    "a = np.array([1.1])\n",
    "print(a.nbytes)"
   ]
  },
  {
   "cell_type": "code",
   "execution_count": 25,
   "metadata": {},
   "outputs": [
    {
     "name": "stdout",
     "output_type": "stream",
     "text": [
      "[[[0. 0. 0. 0.]\n",
      "  [0. 0. 0. 0.]]\n",
      "\n",
      " [[0. 0. 0. 0.]\n",
      "  [0. 0. 0. 0.]]]\n",
      "32\n",
      "32\n"
     ]
    }
   ],
   "source": [
    "import numpy as np\n",
    "dt = np.float16\n",
    "dt_bytes = np.dtype(dt).itemsize\n",
    "data_size = 2\n",
    "img_dims = (2,4)\n",
    "bb = (data_size,) + img_dims\n",
    "a  = np.prod(bb) \n",
    "\n",
    "c = np.zeros((data_size,*img_dims), dt);print(c)\n",
    "print(c.nbytes)\n",
    "print(a*dt_bytes)"
   ]
  },
  {
   "cell_type": "code",
   "execution_count": 8,
   "metadata": {},
   "outputs": [
    {
     "name": "stdout",
     "output_type": "stream",
     "text": [
      "4\n"
     ]
    }
   ],
   "source": [
    "a = np.zeros((2,2))\n",
    "print(a.size)\n",
    "             "
   ]
  },
  {
   "cell_type": "code",
   "execution_count": 30,
   "metadata": {},
   "outputs": [],
   "source": [
    "import random\n",
    "\n",
    "\n",
    "# Create a maze using the depth-first algorithm described at\n",
    "# https://scipython.com/blog/making-a-maze/\n",
    "# Christian Hill, April 2017.\n",
    "\n",
    "class Cell:\n",
    "    \"\"\"A cell in the maze.\n",
    "\n",
    "    A maze \"Cell\" is a point in the grid which may be surrounded by walls to\n",
    "    the north, east, south or west.\n",
    "\n",
    "    \"\"\"\n",
    "\n",
    "    # A wall separates a pair of cells in the N-S or W-E directions.\n",
    "    wall_pairs = {'N': 'S', 'S': 'N', 'E': 'W', 'W': 'E'}\n",
    "\n",
    "    def __init__(self, x, y):\n",
    "        \"\"\"Initialize the cell at (x,y). At first it is surrounded by walls.\"\"\"\n",
    "\n",
    "        self.x, self.y = x, y\n",
    "        self.walls = {'N': True, 'S': True, 'E': True, 'W': True}\n",
    "\n",
    "    def has_all_walls(self):\n",
    "        \"\"\"Does this cell still have all its walls?\"\"\"\n",
    "\n",
    "        return all(self.walls.values())\n",
    "\n",
    "    def knock_down_wall(self, other, wall):\n",
    "        \"\"\"Knock down the wall between cells self and other.\"\"\"\n",
    "\n",
    "        self.walls[wall] = False\n",
    "        other.walls[Cell.wall_pairs[wall]] = False\n",
    "\n",
    "\n",
    "class Maze:\n",
    "    \"\"\"A Maze, represented as a grid of cells.\"\"\"\n",
    "\n",
    "    def __init__(self, nx, ny, ix=0, iy=0):\n",
    "        \"\"\"Initialize the maze grid.\n",
    "        The maze consists of nx x ny cells and will be constructed starting\n",
    "        at the cell indexed at (ix, iy).\n",
    "\n",
    "        \"\"\"\n",
    "\n",
    "        self.nx, self.ny = nx, ny\n",
    "        self.ix, self.iy = ix, iy\n",
    "        self.maze_map = [[Cell(x, y) for y in range(ny)] for x in range(nx)]\n",
    "\n",
    "    def cell_at(self, x, y):\n",
    "        \"\"\"Return the Cell object at (x,y).\"\"\"\n",
    "\n",
    "        return self.maze_map[x][y]\n",
    "\n",
    "    def __str__(self):\n",
    "        \"\"\"Return a (crude) string representation of the maze.\"\"\"\n",
    "\n",
    "        maze_rows = ['-' * self.nx * 2]\n",
    "        for y in range(self.ny):\n",
    "            maze_row = ['|']\n",
    "            for x in range(self.nx):\n",
    "                if self.maze_map[x][y].walls['E']:\n",
    "                    maze_row.append(' |')\n",
    "                else:\n",
    "                    maze_row.append('  ')\n",
    "            maze_rows.append(''.join(maze_row))\n",
    "            maze_row = ['|']\n",
    "            for x in range(self.nx):\n",
    "                if self.maze_map[x][y].walls['S']:\n",
    "                    maze_row.append('-+')\n",
    "                else:\n",
    "                    maze_row.append(' +')\n",
    "            maze_rows.append(''.join(maze_row))\n",
    "        return '\\n'.join(maze_rows)\n",
    "\n",
    "    def write_svg(self, filename):\n",
    "        \"\"\"Write an SVG image of the maze to filename.\"\"\"\n",
    "\n",
    "        aspect_ratio = self.nx / self.ny\n",
    "        # Pad the maze all around by this amount.\n",
    "        padding = 10\n",
    "        # Height and width of the maze image (excluding padding), in pixels\n",
    "        height = 500\n",
    "        width = int(height * aspect_ratio)\n",
    "        # Scaling factors mapping maze coordinates to image coordinates\n",
    "        scy, scx = height / self.ny, width / self.nx\n",
    "\n",
    "        def write_wall(ww_f, ww_x1, ww_y1, ww_x2, ww_y2):\n",
    "            \"\"\"Write a single wall to the SVG image file handle f.\"\"\"\n",
    "\n",
    "            print('<line x1=\"{}\" y1=\"{}\" x2=\"{}\" y2=\"{}\"/>'\n",
    "                  .format(ww_x1, ww_y1, ww_x2, ww_y2), file=ww_f)\n",
    "\n",
    "        # Write the SVG image file for maze\n",
    "        with open(filename, 'w') as f:\n",
    "            # SVG preamble and styles.\n",
    "            print('<?xml version=\"1.0\" encoding=\"utf-8\"?>', file=f)\n",
    "            print('<svg xmlns=\"http://www.w3.org/2000/svg\"', file=f)\n",
    "            print('    xmlns:xlink=\"http://www.w3.org/1999/xlink\"', file=f)\n",
    "            print('    width=\"{:d}\" height=\"{:d}\" viewBox=\"{} {} {} {}\">'\n",
    "                  .format(width + 2 * padding, height + 2 * padding,\n",
    "                          -padding, -padding, width + 2 * padding, height + 2 * padding),\n",
    "                  file=f)\n",
    "            print('<defs>\\n<style type=\"text/css\"><![CDATA[', file=f)\n",
    "            print('line {', file=f)\n",
    "            print('    stroke: #000000;\\n    stroke-linecap: square;', file=f)\n",
    "            print('    stroke-width: 5;\\n}', file=f)\n",
    "            print(']]></style>\\n</defs>', file=f)\n",
    "            # Draw the \"South\" and \"East\" walls of each cell, if present (these\n",
    "            # are the \"North\" and \"West\" walls of a neighbouring cell in\n",
    "            # general, of course).\n",
    "            for x in range(self.nx):\n",
    "                for y in range(self.ny):\n",
    "                    if self.cell_at(x, y).walls['S']:\n",
    "                        x1, y1, x2, y2 = x * scx, (y + 1) * scy, (x + 1) * scx, (y + 1) * scy\n",
    "                        write_wall(f, x1, y1, x2, y2)\n",
    "                    if self.cell_at(x, y).walls['E']:\n",
    "                        x1, y1, x2, y2 = (x + 1) * scx, y * scy, (x + 1) * scx, (y + 1) * scy\n",
    "                        write_wall(f, x1, y1, x2, y2)\n",
    "            # Draw the North and West maze border, which won't have been drawn\n",
    "            # by the procedure above.\n",
    "            print('<line x1=\"0\" y1=\"0\" x2=\"{}\" y2=\"0\"/>'.format(width), file=f)\n",
    "            print('<line x1=\"0\" y1=\"0\" x2=\"0\" y2=\"{}\"/>'.format(height), file=f)\n",
    "            print('</svg>', file=f)\n",
    "\n",
    "    def find_valid_neighbours(self, cell):\n",
    "        \"\"\"Return a list of unvisited neighbours to cell.\"\"\"\n",
    "\n",
    "        delta = [('W', (-1, 0)),\n",
    "                 ('E', (1, 0)),\n",
    "                 ('S', (0, 1)),\n",
    "                 ('N', (0, -1))]\n",
    "        neighbours = []\n",
    "        for direction, (dx, dy) in delta:\n",
    "            x2, y2 = cell.x + dx, cell.y + dy\n",
    "            if (0 <= x2 < self.nx) and (0 <= y2 < self.ny):\n",
    "                neighbour = self.cell_at(x2, y2)\n",
    "                if neighbour.has_all_walls():\n",
    "                    neighbours.append((direction, neighbour))\n",
    "        return neighbours\n",
    "\n",
    "    def make_maze(self):\n",
    "        # Total number of cells.\n",
    "        n = self.nx * self.ny\n",
    "        cell_stack = []\n",
    "        current_cell = self.cell_at(self.ix, self.iy)\n",
    "        # Total number of visited cells during maze construction.\n",
    "        nv = 1\n",
    "\n",
    "        while nv < n:\n",
    "            neighbours = self.find_valid_neighbours(current_cell)\n",
    "\n",
    "            if not neighbours:\n",
    "                # We've reached a dead end: backtrack.\n",
    "                current_cell = cell_stack.pop()\n",
    "                continue\n",
    "\n",
    "            # Choose a random neighbouring cell and move to it.\n",
    "            direction, next_cell = random.choice(neighbours)\n",
    "            current_cell.knock_down_wall(next_cell, direction)\n",
    "            cell_stack.append(current_cell)\n",
    "            current_cell = next_cell\n",
    "            nv += 1"
   ]
  },
  {
   "cell_type": "code",
   "execution_count": 48,
   "metadata": {},
   "outputs": [],
   "source": [
    "nx, ny = 15, 15\n",
    "ix, iy = 0, 0\n",
    "\n",
    "maze = Maze(nx, ny, ix, iy)\n",
    "maze.make_maze()\n",
    "maze.write_svg('maze.svg')\n"
   ]
  },
  {
   "cell_type": "code",
   "execution_count": 58,
   "metadata": {},
   "outputs": [
    {
     "name": "stdout",
     "output_type": "stream",
     "text": [
      "[True, False, True, True]\n"
     ]
    }
   ],
   "source": [
    "x,y = 0,0\n",
    "cell = maze.cell_at(x,y)\n",
    "t = []\n",
    "for i in ['E', 'S', 'W', 'N']:\n",
    "    is_wall = cell.walls[i]\n",
    "    t.append(is_wall)\n",
    "print(t) # [True, False, True, True]\n",
    "\n",
    "\n",
    "# print(maze.find_valid_neighbours(cell))"
   ]
  },
  {
   "cell_type": "code",
   "execution_count": 59,
   "metadata": {},
   "outputs": [
    {
     "name": "stdout",
     "output_type": "stream",
     "text": [
      "------------------------------\n",
      "| |         |                 |\n",
      "| +-+ +-+-+-+ +-+ +-+-+-+-+-+ +\n",
      "|   | |   |     | | |   |     |\n",
      "|-+ + + + + +-+-+ + + + + +-+-+\n",
      "|   |   | | |     |   |   |   |\n",
      "| +-+-+-+ + + + +-+-+-+ +-+ + +\n",
      "| |     | | | | |     |   | | |\n",
      "| + +-+ + + + +-+ +-+ +-+ +-+ +\n",
      "| | | | |   |   |   | | |     |\n",
      "| + + + +-+-+-+ +-+ + + +-+-+ +\n",
      "| | | |       |   | | |       |\n",
      "| + + +-+-+-+ + + + + +-+-+-+ +\n",
      "| | |       | | | | | |     | |\n",
      "| + +-+-+ +-+ + +-+ + + +-+ + +\n",
      "| |     |   | | |   |   | | | |\n",
      "| +-+-+ + + + + + +-+-+-+ + + +\n",
      "| |     | |   |       |   | | |\n",
      "| + +-+-+ +-+-+-+-+-+ + +-+ + +\n",
      "| | |   | |       | |   |   | |\n",
      "| + + + + + +-+-+ + +-+ + +-+-+\n",
      "|   | | | |   |   |     | |   |\n",
      "|-+-+ + + + + + +-+ +-+-+ + + +\n",
      "|   | |   | | |   |     |   | |\n",
      "| + + +-+-+ + +-+ +-+ +-+-+-+ +\n",
      "| | |   |   | |     | |   |   |\n",
      "| +-+-+ +-+ + +-+-+ +-+ + + + +\n",
      "|     |   | |     |     |   | |\n",
      "| + +-+-+ +-+-+-+ +-+-+-+-+-+ +\n",
      "| |               |           |\n",
      "|-+-+-+-+-+-+-+-+-+-+-+-+-+-+-+\n"
     ]
    }
   ],
   "source": [
    "print(maze)"
   ]
  },
  {
   "cell_type": "code",
   "execution_count": 18,
   "metadata": {},
   "outputs": [
    {
     "name": "stdout",
     "output_type": "stream",
     "text": [
      "i√3\n",
      "x1: (-0.5+0.8660254037844386j)\n",
      "x2: -2.618033988749895\n",
      "\n",
      "equation:\n",
      "(-1 ± i√3) / 2\n",
      "\n"
     ]
    }
   ],
   "source": [
    "import math\n",
    "import cmath\n",
    "\n",
    "functions = ['CTS', 'QS']\n",
    "        \n",
    "def QES(a, b, c):\n",
    "    e = b**2 - 4*a*c\n",
    "    try:\n",
    "        d = math.sqrt(e)\n",
    "        if d != int(d):\n",
    "            d_vis = f\"√{e}\"\n",
    "        else:\n",
    "            d_vis = int(d)\n",
    "    except ValueError:\n",
    "        d = cmath.sqrt(e)\n",
    "        if math.sqrt(abs(e)) != int(math.sqrt(abs(e))):\n",
    "            d_vis = f\"i√{abs(e)}\"\n",
    "        else:\n",
    "            d_vis = f\"{math.sqrt(abs(e))}i\"\n",
    "    print(d_vis)\n",
    "    \n",
    "    x1 = (-b + d) / (2*a) # here\n",
    "    # print(x1)\n",
    "    # if math.sqrt(abs(x1)) == int(math.sqrt(abs(x1))):\n",
    "    #     x1 = int(x1)\n",
    "    \n",
    "    # x2 = (-b - d) / (2*a)\n",
    "    # if math.sqrt(abs(x2)) == int(math.sqrt(abs(x2))):\n",
    "    #     x2 = int(x2)\n",
    "\n",
    "    if b == 0:\n",
    "        x_vis = f\"(±{d_vis}) / {2*a}\"\n",
    "    else:\n",
    "        x_vis = f\"({-b} ± {d_vis}) / {2*a}\"\n",
    "\n",
    "    return x1, x2, x_vis\n",
    "# --------------------------------------------------------------\n",
    "\n",
    "a, b, c = 1 , 1 , 1\n",
    "\n",
    "\n",
    "x1, x2, x_vis = QES(a, b, c)\n",
    "print(f\"x1: {x1}\\nx2: {x2}\\n\")\n",
    "print(f\"equation:\\n{x_vis}\\n\")\n"
   ]
  },
  {
   "cell_type": "code",
   "execution_count": 13,
   "metadata": {},
   "outputs": [
    {
     "data": {
      "text/plain": [
       "(1+0j)"
      ]
     },
     "execution_count": 13,
     "metadata": {},
     "output_type": "execute_result"
    }
   ],
   "source": [
    "(-0.5+0.8660254037844386j) + 2 * (-0.5+0.8660254037844386j) \n",
    "(-0.5+0.8660254037844386j) / (-0.5+0.8660254037844386j)"
   ]
  },
  {
   "cell_type": "code",
   "execution_count": 33,
   "metadata": {},
   "outputs": [
    {
     "name": "stdout",
     "output_type": "stream",
     "text": [
      "√(4.0) = 2.0\n",
      "√(4.1) = √(4.1)\n",
      "None None\n"
     ]
    }
   ],
   "source": [
    "import math\n",
    "\n",
    "def asd(a):\n",
    "    if math.sqrt(a) % 1.0 == 0:\n",
    "        print(f'√({a}) = {math.sqrt(a)}')\n",
    "    else: \n",
    "        print(f'√({a}) = √({a})')\n",
    "\n",
    "print(asd(4.0), asd(4.1))\n",
    "#√(4.0) = 2.0\n",
    "#√(4.1) = √(4.1)\n"
   ]
  },
  {
   "cell_type": "code",
   "execution_count": 34,
   "metadata": {},
   "outputs": [],
   "source": [
    "def flip(image, screen):\n",
    "  flippedImage = image.copy()\n",
    "  width = screen.get_width()\n",
    "  height = screen.get_height()\n",
    "\n",
    "  for x in range(width):\n",
    "    for y in range(height):\n",
    "      colour = image.get_at((x,y))\n",
    "      flippedImage.set_at((y,x), colour)\n",
    "  return flippedImage"
   ]
  },
  {
   "cell_type": "code",
   "execution_count": 3,
   "metadata": {},
   "outputs": [
    {
     "name": "stdout",
     "output_type": "stream",
     "text": [
      "2673484261712\n",
      "2673484261680\n"
     ]
    }
   ],
   "source": [
    "a = 1 \n",
    "def f(x, y = a):\n",
    "    y += 1\n",
    "    print(id(y))\n",
    "\n",
    "f(0)\n",
    "print(id(a))"
   ]
  },
  {
   "cell_type": "code",
   "execution_count": 6,
   "metadata": {},
   "outputs": [
    {
     "name": "stdout",
     "output_type": "stream",
     "text": [
      "Hello          \n",
      "World!dasdasdas\n"
     ]
    }
   ],
   "source": [
    "def align_strings(str1, str2):\n",
    "    # Find the length of the longest string\n",
    "    max_length = max(len(str1), len(str2))\n",
    "\n",
    "    # Align the strings to the left and fill the remaining spaces with space characters\n",
    "    aligned_str1 = str1.ljust(max_length)\n",
    "    aligned_str2 = str2.ljust(max_length)\n",
    "\n",
    "    return aligned_str1, aligned_str2\n",
    "\n",
    "# Example usage:\n",
    "string1 = \"Hello\"\n",
    "string2 = \"World!dasdasdas\"\n",
    "\n",
    "aligned_str1, aligned_str2 = align_strings(string1, string2)\n",
    "\n",
    "print(aligned_str1)\n",
    "print(aligned_str2)\n"
   ]
  },
  {
   "cell_type": "code",
   "execution_count": null,
   "metadata": {},
   "outputs": [],
   "source": []
  }
 ],
 "metadata": {
  "kernelspec": {
   "display_name": ".venv",
   "language": "python",
   "name": "python3"
  },
  "language_info": {
   "codemirror_mode": {
    "name": "ipython",
    "version": 3
   },
   "file_extension": ".py",
   "mimetype": "text/x-python",
   "name": "python",
   "nbconvert_exporter": "python",
   "pygments_lexer": "ipython3",
   "version": "3.9.13"
  }
 },
 "nbformat": 4,
 "nbformat_minor": 2
}
